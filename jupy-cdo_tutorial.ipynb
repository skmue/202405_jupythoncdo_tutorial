{
 "cells": [
  {
   "cell_type": "markdown",
   "id": "d83550fe-824b-4c99-9544-00b35b4e5fab",
   "metadata": {
    "editable": true,
    "scrollable": true,
    "scrolled": true,
    "slideshow": {
     "slide_type": "slide"
    },
    "tags": []
   },
   "source": [
    "# cdo & python in jupyter for climate research\n",
    "\n",
    "is *all* you need.   "
   ]
  },
  {
   "cell_type": "markdown",
   "id": "2b0759ee-b974-44d9-b9f1-e7ec532220bf",
   "metadata": {
    "editable": true,
    "scrollable": true,
    "scrolled": true,
    "slideshow": {
     "slide_type": "subslide"
    },
    "tags": []
   },
   "source": [
    "## cdo := climate data operators\n",
    "https://code.mpimet.mpg.de/projects/cdo\n",
    "* is a command line computer software suite \n",
    "* is intuitive, fast as parallelizable, reliable and well-maintained\n",
    "* retains netCDF metadata\n",
    "\n",
    "  "
   ]
  },
  {
   "cell_type": "markdown",
   "id": "c612257c-cea8-45be-9d70-7c1827f89a6b",
   "metadata": {
    "editable": true,
    "scrollable": true,
    "scrolled": true,
    "slideshow": {
     "slide_type": "subslide"
    },
    "tags": []
   },
   "source": [
    "## netCDF := data format with meta-data\n",
    "   \n",
    "Adrian Tompkins - Climate Unboxed:\n",
    "   \n",
    "[![Adrian Tompkins - Climate Unboxed](http://img.youtube.com/vi/UvNBnjiTXa0/0.jpg)](https://www.youtube.com/watch?v=UvNBnjiTXa0)\n",
    "\n",
    "   "
   ]
  },
  {
   "cell_type": "markdown",
   "id": "cc7d9e97-26ea-47f8-b0d3-0f5f64033716",
   "metadata": {
    "editable": true,
    "scrollable": true,
    "scrolled": true,
    "slideshow": {
     "slide_type": "subslide"
    },
    "tags": []
   },
   "source": [
    "## python := the standard programming language in climate research \n",
    "https://en.wikipedia.org/wiki/Python_(programming_language)\n",
    "   \n",
    "* open-source\n",
    "* readable and universal\n",
    "* allows you to easily download from the *Climate Data Store* using the cdsapi\n",
    "<!-- * Multi-paradigm: object-oriented, procedural (imperative), functional, structured, reflective -->\n",
    "\n",
    "   "
   ]
  },
  {
   "cell_type": "markdown",
   "id": "f957f8a0-1b57-4e49-956d-f1dd3ac041a7",
   "metadata": {
    "editable": true,
    "scrollable": true,
    "scrolled": true,
    "slideshow": {
     "slide_type": "subslide"
    },
    "tags": []
   },
   "source": [
    "## jupyter := interactive programming environment\n",
    "   \n",
    "* provides file-browser, editor and computing interface \n",
    "* the *jupyter-notebook* is a collection of cells (input) that can be executed, with the output being displayed directly below.\n",
    "    * a most common way to share scientific code.\n",
    "    * can be exported for presentations in .html or .pdf, like this one here.\n",
    "   "
   ]
  },
  {
   "cell_type": "markdown",
   "id": "eb8b7316-ea1d-4d13-91a2-d632ff98bad9",
   "metadata": {
    "editable": true,
    "slideshow": {
     "slide_type": "slide"
    },
    "tags": []
   },
   "source": [
    "# Everything else you need for research\n",
    "## github := a version control program and platform\n",
    "* allows you to maintain and share code\n",
    "## latex\n",
    "* for writing theses and papers\n",
    "## inkscape\n",
    "* for figures and graphics"
   ]
  },
  {
   "cell_type": "markdown",
   "id": "bdefa41e-2158-4625-a932-29c9028a61fb",
   "metadata": {
    "editable": true,
    "slideshow": {
     "slide_type": "slide"
    },
    "tags": []
   },
   "source": [
    "## software requirements on linux:\n",
    "\n",
    "* sudo apt-get install cdo\n",
    "* sudo apt-get install ncview\n",
    "* sudo apt-get install python3\n",
    "* sudo apt-get install ipython3\n",
    "* sudo apt-get install python3-pip\n",
    "\n",
    "* pip install \n",
    "    * \tnetCDF4\n",
    "    * \tseaborn\n",
    "    * \tcartopy\n",
    "    * \txarray\n",
    "    * \t...\n",
    "\n",
    "* sudo apt-get install jupyterlab\n",
    "* sudo apt-get spyder"
   ]
  },
  {
   "cell_type": "markdown",
   "id": "2adb0190-cdf1-46b6-9b13-d3882cff19ff",
   "metadata": {
    "editable": true,
    "slideshow": {
     "slide_type": "slide"
    },
    "tags": []
   },
   "source": [
    "## Let's get started!"
   ]
  },
  {
   "cell_type": "code",
   "execution_count": 21,
   "id": "253a8256-4196-4e23-8b60-fc452410f518",
   "metadata": {
    "editable": true,
    "slideshow": {
     "slide_type": "fragment"
    },
    "tags": []
   },
   "outputs": [
    {
     "name": "stdout",
     "output_type": "stream",
     "text": [
      "modeldata_precipitation/timmean_5Y_n90dis_IFS4_pr_0p25deg.nc\n",
      "modeldata_precipitation/timmean_5Y_n90disn512con_ngc3028_pr_Nzoom9_P1D.nc\n",
      "modeldata_precipitation/timmean_5Y_n90dis_ngc4008_pr_Nzoom7_P1D.nc\n",
      "modeldata_precipitation/timmean_5Y_n90dis_ngc40AMIP_pr_Nzoom8_P1D.nc\n",
      "modeldata_precipitation/timmean_ensmean_n90con_pr_AMIP6_oooo.nc\n",
      "modeldata_precipitation/timmean_ensmean_n90dis_pr_mmday_Amon_oooo__historical_r1i1p1f1_gn_19790116-20141216_v20190710.nc\n",
      "modeldata_precipitation/timmean_monmean_n90dis_ngc2013_atm_2d_3h_mean_oooo.nc\n",
      "modeldata_precipitation/timmean_monmean_n90dis_rthk001_atm_2d_3h_mean_oooo.nc\n",
      "modeldata_precipitation/timmean_n90con_IMERG_trop_20162020.nc\n",
      "modeldata_precipitation/timmean_n90dis_IFS_4.4-FESOM_5-cycle3_2D_monthly_0.25deg_pr.nc\n",
      "modeldata_precipitation/timmean_n90dis_IFS_9-FESOM_5-cycle3_2D_monthly_0.25deg_pr.nc\n",
      "modeldata_precipitation/timmean_n90dis_IFS_9-NEMO_25-cycle3_2D_monthly_0.25deg_pr.nc\n",
      "modeldata_precipitation/timmean_pr_n90dis_daymean_ngc2009_atm_2d_30min_mean_2021oooo.nc\n",
      "modeldata_precipitation/timmean_pr_n90dis_ERA5_20162020.nc\n"
     ]
    }
   ],
   "source": [
    "! ls modeldata_precipitation/timmean*"
   ]
  },
  {
   "cell_type": "code",
   "execution_count": 22,
   "id": "d409ee07-196e-476d-9de5-b8fe87c1ae5a",
   "metadata": {
    "editable": true,
    "slideshow": {
     "slide_type": "fragment"
    },
    "tags": []
   },
   "outputs": [
    {
     "name": "stdout",
     "output_type": "stream",
     "text": [
      "\u001b[0;1m   File format\u001b[0m : NetCDF4\n",
      "\u001b[0;1m    -1 : Institut Source   T Steptype Levels Num    Points Num Dtype : Parameter name\u001b[0m\n",
      "     1 : \u001b[34munknown  ACCESS-CM2 v instant  \u001b[0m\u001b[32m     1 \u001b[0m  1 \u001b[32m    64800 \u001b[0m  1 \u001b[34m F32  \u001b[0m: pr            \n",
      "\u001b[0;1m   Grid coordinates\u001b[0m :\n",
      "     1 : \u001b[34mgaussian                \u001b[0m : \u001b[32mpoints=64800 (360x180)  F90\u001b[0m\n",
      "                              lon : 0 to 359 by 1 degrees_east  circular\n",
      "                              lat : 89.23664 to -89.23664 degrees_north\n",
      "\u001b[0;1m   Vertical coordinates\u001b[0m :\n",
      "     1 : \u001b[34msurface                 \u001b[0m :\u001b[32m levels=1\u001b[0m\n",
      "\u001b[0;1m   Time coordinate\u001b[0m :\n",
      "                             time : \u001b[32m1 step\n",
      "\u001b[0m     RefTime =  1850-01-01 00:00:00  Units = days  Calendar = proleptic_gregorian  Bounds = true\n",
      "  YYYY-MM-DD hh:mm:ss  YYYY-MM-DD hh:mm:ss  YYYY-MM-DD hh:mm:ss  YYYY-MM-DD hh:mm:ss\n",
      "\u001b[35m  1997-01-01 00:00:00\u001b[0m\n",
      "\u001b[32mcdo    sinfon: \u001b[0mProcessed 1 variable over 1 timestep [0.01s 70MB].\n"
     ]
    }
   ],
   "source": [
    "! cdo sinfov modeldata_precipitation/timmean_ensmean_n90dis_pr_mmday_Amon_oooo__historical_r1i1p1f1_gn_19790116-20141216_v20190710.nc\n"
   ]
  },
  {
   "cell_type": "markdown",
   "id": "961c89fd-2428-413c-a073-3f3b0b46af5c",
   "metadata": {
    "editable": true,
    "slideshow": {
     "slide_type": "slide"
    },
    "tags": []
   },
   "source": [
    "### Let's get started pythonially!"
   ]
  },
  {
   "cell_type": "code",
   "execution_count": 23,
   "id": "953765f7",
   "metadata": {
    "editable": true,
    "slideshow": {
     "slide_type": "subslide"
    },
    "tags": []
   },
   "outputs": [],
   "source": [
    "file = 'modeldata_precipitation/timmean_ensmean_n90dis_pr_mmday_Amon_oooo__historical_r1i1p1f1_gn_19790116-20141216_v20190710.nc'\n"
   ]
  },
  {
   "cell_type": "code",
   "execution_count": 24,
   "id": "5c6ecdeb-f2f0-4dc4-8071-0762f4122028",
   "metadata": {
    "editable": true,
    "slideshow": {
     "slide_type": "subslide"
    },
    "tags": []
   },
   "outputs": [
    {
     "name": "stdout",
     "output_type": "stream",
     "text": [
      "   File format : NetCDF4\n",
      "    -1 : Institut Source   T Steptype Levels Num    Points Num Dtype : Parameter name\n",
      "     1 : unknown  ACCESS-CM2 v instant       1   1     64800   1  F32  : pr            \n",
      "   Grid coordinates :\n",
      "     1 : gaussian                 : points=64800 (360x180)  F90\n",
      "                              lon : 0 to 359 by 1 degrees_east  circular\n",
      "                              lat : 89.23664 to -89.23664 degrees_north\n",
      "   Vertical coordinates :\n",
      "     1 : surface                  : levels=1\n",
      "   Time coordinate :\n",
      "                             time : 1 step\n",
      "     RefTime =  1850-01-01 00:00:00  Units = days  Calendar = proleptic_gregorian  Bounds = true\n",
      "  YYYY-MM-DD hh:mm:ss  YYYY-MM-DD hh:mm:ss  YYYY-MM-DD hh:mm:ss  YYYY-MM-DD hh:mm:ss\n",
      "  1997-01-01 00:00:00\n",
      "cdo    sinfon: Processed 1 variable over 1 timestep [0.01s 46MB].\n"
     ]
    }
   ],
   "source": [
    "import subprocess\n",
    "def spct(comm):\n",
    "    subprocess.call(comm,shell=True)\n",
    "    \n",
    "spct('cdo sinfov '+ file)\n"
   ]
  },
  {
   "cell_type": "markdown",
   "id": "01e45b78-d55a-430f-9b1b-db17e4ecce33",
   "metadata": {
    "editable": true,
    "slideshow": {
     "slide_type": "slide"
    },
    "tags": []
   },
   "source": [
    "### ncview for a quick look at netcdf files"
   ]
  },
  {
   "cell_type": "code",
   "execution_count": null,
   "id": "96277c26",
   "metadata": {
    "editable": true,
    "scrolled": true,
    "slideshow": {
     "slide_type": "subslide"
    },
    "tags": []
   },
   "outputs": [
    {
     "name": "stderr",
     "output_type": "stream",
     "text": [
      "Ncview 2.1.8 David W. Pierce  8 March 2017\n",
      "http://meteora.ucsd.edu:80/~pierce/ncview_home_page.html\n",
      "Copyright (C) 1993 through 2015, David W. Pierce\n",
      "Ncview comes with ABSOLUTELY NO WARRANTY; for details type `ncview -w'.\n",
      "This is free software licensed under the Gnu General Public License version 3; type `ncview -c' for redistribution details.\n",
      "\n",
      "Warning: Cannot convert string \"-*-lucida-bold-r-*-*-14-*-*-*-*-*-*-*\" to type FontStruct\n"
     ]
    },
    {
     "name": "stdout",
     "output_type": "stream",
     "text": [
      "calculating min and maxes for pr."
     ]
    }
   ],
   "source": [
    "spct('ncview '+file)\n"
   ]
  },
  {
   "cell_type": "code",
   "execution_count": null,
   "id": "bce65fd0-8c5a-4561-9fb3-6e765ddc9f68",
   "metadata": {
    "editable": true,
    "slideshow": {
     "slide_type": ""
    },
    "tags": []
   },
   "outputs": [],
   "source": [
    "ncview_file.png"
   ]
  },
  {
   "cell_type": "code",
   "execution_count": null,
   "id": "a292fc92",
   "metadata": {
    "editable": true,
    "scrolled": true,
    "slideshow": {
     "slide_type": "slide"
    },
    "tags": []
   },
   "outputs": [],
   "source": [
    "import netCDF4\n",
    "nc_file = netCDF4.Dataset(file)\n",
    "print(nc_file)"
   ]
  },
  {
   "cell_type": "markdown",
   "id": "7d46801a-12cf-48ac-a3b6-957c9996f3dd",
   "metadata": {
    "editable": true,
    "slideshow": {
     "slide_type": "slide"
    },
    "tags": []
   },
   "source": [
    "### using cdo within python"
   ]
  },
  {
   "cell_type": "code",
   "execution_count": null,
   "id": "f988acfd",
   "metadata": {
    "editable": true,
    "slideshow": {
     "slide_type": "slide"
    },
    "tags": []
   },
   "outputs": [],
   "source": [
    "import glob\n",
    "import os\n",
    "def spct(comm):\n",
    "    spc(comm,shell=True)\n",
    "\n",
    "in_files = glob.glob('modeldata_precipitation/timmean_*.nc')\n",
    "\n",
    "for in_file in in_files:\n",
    "    out_file = in_file.replace('modeldata_precipitation/timmean','modeldata_precipitation/fldmean_timmean')\n",
    "    \n",
    "    if not os.path.isfile(out_file):\n",
    "        spct('cdo fldmean '+in_file+' '+out_file)\n",
    "    if     os.path.isfile(out_file):\n",
    "        print(netCDF4.Dataset(out_file).variables['pr'])"
   ]
  },
  {
   "cell_type": "code",
   "execution_count": null,
   "id": "642fc06d-cc15-4315-8ea3-116a123ddd1b",
   "metadata": {
    "editable": true,
    "scrolled": true,
    "slideshow": {
     "slide_type": "skip"
    },
    "tags": []
   },
   "outputs": [],
   "source": [
    "! ls modeldata_precipitation/timm*"
   ]
  },
  {
   "cell_type": "markdown",
   "id": "8cececb7-c0dd-4f1e-9f38-49e42bd6939d",
   "metadata": {
    "editable": true,
    "slideshow": {
     "slide_type": "slide"
    },
    "tags": []
   },
   "source": [
    "### Tasks:\n",
    "1. Install the programs and python modules listed in slide 2. \n",
    "2. Interpret the model output given in folder \"modeldata_precipitation\" using cdo and ncview. \n",
    "3. Produce plots of the zonal average of precipitation flux in units of mm/day using python and its modules matplotlib.\n",
    "4. Produce maps of precipitation flux in units of mm/day using python and its modules matplotlib and cartopy.\n",
    "5. Produce maps of precipitation biases of models with respect to observations \"IMERG: timmean_n90con_IMERG_trop_20162020.nc\".\n",
    "\n",
    "\n",
    "\n",
    "### *have fun!*"
   ]
  },
  {
   "cell_type": "code",
   "execution_count": null,
   "id": "476d93bf-5218-4efa-a0a4-082afe178c69",
   "metadata": {
    "editable": true,
    "scrolled": true,
    "slideshow": {
     "slide_type": "skip"
    },
    "tags": []
   },
   "outputs": [],
   "source": [
    "!jupyter nbconvert jupy-cdo_tutorial.ipynb --theme=Jupyterlab-light --to slides --SlidesExporter.reveal_scroll=True  --SlidesExporter.reveal_theme=dark --SlidesExporter.theme=dark\n",
    "\n",
    "#--SlidesExporter.reveal_theme=white  --template nbconvert_template.tpl #slides#--post serve\n"
   ]
  }
 ],
 "metadata": {
  "kernelspec": {
   "display_name": "Python 3 (ipykernel)",
   "language": "python",
   "name": "python3"
  },
  "language_info": {
   "codemirror_mode": {
    "name": "ipython",
    "version": 3
   },
   "file_extension": ".py",
   "mimetype": "text/x-python",
   "name": "python",
   "nbconvert_exporter": "python",
   "pygments_lexer": "ipython3",
   "version": "3.10.12"
  }
 },
 "nbformat": 4,
 "nbformat_minor": 5
}
