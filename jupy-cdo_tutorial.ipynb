{
 "cells": [
  {
   "cell_type": "markdown",
   "id": "295bdceb-e11a-4442-bea6-f246301e229e",
   "metadata": {
    "editable": true,
    "scrollable": true,
    "scrolled": true,
    "slideshow": {
     "slide_type": "slide"
    },
    "tags": []
   },
   "source": [
    "# cdo & python in jupyter for climate research\n",
    "\n",
    "is *all* you need.   \n",
    "\n",
    "## cdo := climate data operators\n",
    "https://code.mpimet.mpg.de/projects/cdo\n",
    "* is a command line computer software suite \n",
    "* is intuitive, fast as parallelizable, reliable and well-maintained\n",
    "* retains netCDF metadata\n",
    "\n",
    "  \n",
    "## netCDF := data format with meta-data\n",
    "   \n",
    "Adrian Tompkins - Climate Unboxed:\n",
    "   \n",
    "[![Adrian Tompkins - Climate Unboxed](http://img.youtube.com/vi/UvNBnjiTXa0/0.jpg)](https://www.youtube.com/watch?v=UvNBnjiTXa0)\n",
    "\n",
    "   \n",
    "\n",
    "## python := the standard programming language in climate research \n",
    "https://en.wikipedia.org/wiki/Python_(programming_language)\n",
    "   \n",
    "* open-source\n",
    "* readable and universal\n",
    "* allows you to easily download from the *Climate Data Store* using the cdsapi\n",
    "<!-- * Multi-paradigm: object-oriented, procedural (imperative), functional, structured, reflective -->\n",
    "\n",
    "   \n",
    "\n",
    "## jupyter := interactive programming environment\n",
    "   \n",
    "* provides file-browser, editor and computing interface \n",
    "* the *jupyter-notebook* is a collection of cells (input) that can be executed, with the output being displayed directly below.\n",
    "    * a most common way to share scientific code.\n",
    "    * can be exported for presentations in .html or .pdf, like this one here.\n",
    "   "
   ]
  },
  {
   "cell_type": "markdown",
   "id": "eb8b7316-ea1d-4d13-91a2-d632ff98bad9",
   "metadata": {
    "editable": true,
    "slideshow": {
     "slide_type": "slide"
    },
    "tags": []
   },
   "source": [
    "# Everything else you need for research\n",
    "## github := a version control program and platform\n",
    "* allows you to maintain and share code\n",
    "## latex\n",
    "* for writing theses and papers\n",
    "## inkscape\n",
    "* for figures and graphics"
   ]
  },
  {
   "cell_type": "markdown",
   "id": "bdefa41e-2158-4625-a932-29c9028a61fb",
   "metadata": {
    "editable": true,
    "slideshow": {
     "slide_type": "slide"
    },
    "tags": []
   },
   "source": [
    "## software requirements on linux:\n",
    "\n",
    "* sudo apt-get install cdo\n",
    "* sudo apt-get install ncview\n",
    "* sudo apt-get install python3\n",
    "* sudo apt-get install ipython3\n",
    "* sudo apt-get install python3-pip\n",
    "\n",
    "* pip install \n",
    "    * \tnetCDF4\n",
    "    * \tseaborn\n",
    "    * \tcartopy\n",
    "    * \txarray\n",
    "    * \t...\n",
    "\n",
    "* sudo apt-get install jupyterlab\n",
    "* sudo apt-get spyder"
   ]
  },
  {
   "cell_type": "markdown",
   "id": "2adb0190-cdf1-46b6-9b13-d3882cff19ff",
   "metadata": {
    "editable": true,
    "slideshow": {
     "slide_type": "slide"
    },
    "tags": []
   },
   "source": [
    "## Let's get started!"
   ]
  },
  {
   "cell_type": "code",
   "execution_count": 2,
   "id": "253a8256-4196-4e23-8b60-fc452410f518",
   "metadata": {
    "editable": true,
    "slideshow": {
     "slide_type": "fragment"
    },
    "tags": []
   },
   "outputs": [
    {
     "name": "stdout",
     "output_type": "stream",
     "text": [
      "modeldata_precipitation/timmean_5Y_n90dis_IFS4_pr_0p25deg.nc\n",
      "modeldata_precipitation/timmean_5Y_n90disn512con_ngc3028_pr_Nzoom9_P1D.nc\n",
      "modeldata_precipitation/timmean_5Y_n90dis_ngc4008_pr_Nzoom7_P1D.nc\n",
      "modeldata_precipitation/timmean_5Y_n90dis_ngc40AMIP_pr_Nzoom8_P1D.nc\n",
      "modeldata_precipitation/timmean_ensmean_n90con_pr_AMIP6_oooo.nc\n",
      "modeldata_precipitation/timmean_ensmean_n90dis_pr_mmday_Amon_oooo__historical_r1i1p1f1_gn_19790116-20141216_v20190710.nc\n",
      "modeldata_precipitation/timmean_monmean_n90dis_ngc2013_atm_2d_3h_mean_oooo.nc\n",
      "modeldata_precipitation/timmean_monmean_n90dis_rthk001_atm_2d_3h_mean_oooo.nc\n",
      "modeldata_precipitation/timmean_n90con_IMERG_trop_20162020.nc\n",
      "modeldata_precipitation/timmean_n90dis_IFS_4.4-FESOM_5-cycle3_2D_monthly_0.25deg_pr.nc\n",
      "modeldata_precipitation/timmean_n90dis_IFS_9-FESOM_5-cycle3_2D_monthly_0.25deg_pr.nc\n",
      "modeldata_precipitation/timmean_n90dis_IFS_9-NEMO_25-cycle3_2D_monthly_0.25deg_pr.nc\n",
      "modeldata_precipitation/timmean_pr_n90dis_daymean_ngc2009_atm_2d_30min_mean_2021oooo.nc\n",
      "modeldata_precipitation/timmean_pr_n90dis_ERA5_20162020.nc\n"
     ]
    }
   ],
   "source": [
    "! ls modeldata_precipitation/timmean*"
   ]
  },
  {
   "cell_type": "code",
   "execution_count": 4,
   "id": "d409ee07-196e-476d-9de5-b8fe87c1ae5a",
   "metadata": {
    "editable": true,
    "slideshow": {
     "slide_type": "fragment"
    },
    "tags": []
   },
   "outputs": [
    {
     "name": "stdout",
     "output_type": "stream",
     "text": [
      "\u001b[0;1m   File format\u001b[0m : NetCDF4\n",
      "\u001b[0;1m    -1 : Institut Source   T Steptype Levels Num    Points Num Dtype : Parameter name\u001b[0m\n",
      "     1 : \u001b[34munknown  ACCESS-CM2 v instant  \u001b[0m\u001b[32m     1 \u001b[0m  1 \u001b[32m    64800 \u001b[0m  1 \u001b[34m F32  \u001b[0m: pr            \n",
      "\u001b[0;1m   Grid coordinates\u001b[0m :\n",
      "     1 : \u001b[34mgaussian                \u001b[0m : \u001b[32mpoints=64800 (360x180)  F90\u001b[0m\n",
      "                              lon : 0 to 359 by 1 degrees_east  circular\n",
      "                              lat : 89.23664 to -89.23664 degrees_north\n",
      "\u001b[0;1m   Vertical coordinates\u001b[0m :\n",
      "     1 : \u001b[34msurface                 \u001b[0m :\u001b[32m levels=1\u001b[0m\n",
      "\u001b[0;1m   Time coordinate\u001b[0m :\n",
      "                             time : \u001b[32m1 step\n",
      "\u001b[0m     RefTime =  1850-01-01 00:00:00  Units = days  Calendar = proleptic_gregorian  Bounds = true\n",
      "  YYYY-MM-DD hh:mm:ss  YYYY-MM-DD hh:mm:ss  YYYY-MM-DD hh:mm:ss  YYYY-MM-DD hh:mm:ss\n",
      "\u001b[35m  1997-01-01 00:00:00\u001b[0m\n",
      "\u001b[32mcdo    sinfon: \u001b[0mProcessed 1 variable over 1 timestep [0.04s 46MB].\n"
     ]
    }
   ],
   "source": [
    "! cdo sinfov modeldata_precipitation/timmean_ensmean_n90dis_pr_mmday_Amon_oooo__historical_r1i1p1f1_gn_19790116-20141216_v20190710.nc\n"
   ]
  },
  {
   "cell_type": "markdown",
   "id": "961c89fd-2428-413c-a073-3f3b0b46af5c",
   "metadata": {
    "editable": true,
    "slideshow": {
     "slide_type": "slide"
    },
    "tags": []
   },
   "source": [
    "### Let's get started pythonially!"
   ]
  },
  {
   "cell_type": "code",
   "execution_count": 16,
   "id": "953765f7",
   "metadata": {
    "editable": true,
    "slideshow": {
     "slide_type": "subslide"
    },
    "tags": []
   },
   "outputs": [],
   "source": [
    "import subprocess\n",
    "File = 'modeldata_precipitation/timmean_ensmean_n90dis_pr_mmday_Amon_oooo__historical_r1i1p1f1_gn_19790116-20141216_v20190710.nc'\n"
   ]
  },
  {
   "cell_type": "code",
   "execution_count": 30,
   "id": "5c6ecdeb-f2f0-4dc4-8071-0762f4122028",
   "metadata": {
    "editable": true,
    "slideshow": {
     "slide_type": "subslide"
    },
    "tags": []
   },
   "outputs": [
    {
     "name": "stdout",
     "output_type": "stream",
     "text": [
      "   File format : NetCDF4\n",
      "    -1 : Institut Source   T Steptype Levels Num    Points Num Dtype : Parameter name\n",
      "     1 : unknown  ACCESS-CM2 v instant       1   1     64800   1  F32  : pr            \n",
      "   Grid coordinates :\n",
      "     1 : gaussian                 : points=64800 (360x180)  F90\n",
      "                              lon : 0 to 359 by 1 degrees_east  circular\n",
      "                              lat : 89.23664 to -89.23664 degrees_north\n",
      "   Vertical coordinates :\n",
      "     1 : surface                  : levels=1\n",
      "   Time coordinate :\n",
      "                             time : 1 step\n",
      "     RefTime =  1850-01-01 00:00:00  Units = days  Calendar = proleptic_gregorian  Bounds = true\n",
      "  YYYY-MM-DD hh:mm:ss  YYYY-MM-DD hh:mm:ss  YYYY-MM-DD hh:mm:ss  YYYY-MM-DD hh:mm:ss\n",
      "  1997-01-01 00:00:00\n",
      "cdo    sinfon: Processed 1 variable over 1 timestep [0.01s 46MB].\n"
     ]
    }
   ],
   "source": [
    "def spct(comm):\n",
    "    subprocess.call(comm,shell=True)\n",
    "    \n",
    "spct('cdo sinfov '+ File)\n"
   ]
  },
  {
   "cell_type": "markdown",
   "id": "01e45b78-d55a-430f-9b1b-db17e4ecce33",
   "metadata": {
    "editable": true,
    "slideshow": {
     "slide_type": "slide"
    },
    "tags": []
   },
   "source": [
    "### ncview for a quick look at netcdf files"
   ]
  },
  {
   "cell_type": "code",
   "execution_count": 31,
   "id": "96277c26",
   "metadata": {
    "editable": true,
    "scrolled": true,
    "slideshow": {
     "slide_type": "subslide"
    },
    "tags": []
   },
   "outputs": [
    {
     "name": "stderr",
     "output_type": "stream",
     "text": [
      "Ncview 2.1.8 David W. Pierce  8 March 2017\n",
      "http://meteora.ucsd.edu:80/~pierce/ncview_home_page.html\n",
      "Copyright (C) 1993 through 2015, David W. Pierce\n",
      "Ncview comes with ABSOLUTELY NO WARRANTY; for details type `ncview -w'.\n",
      "This is free software licensed under the Gnu General Public License version 3; type `ncview -c' for redistribution details.\n",
      "\n",
      "Warning: Cannot convert string \"-*-lucida-bold-r-*-*-14-*-*-*-*-*-*-*\" to type FontStruct\n",
      "X connection to :0 broken (explicit kill or server shutdown).\n"
     ]
    }
   ],
   "source": [
    "spct('ncview '+File)\n"
   ]
  },
  {
   "cell_type": "code",
   "execution_count": 32,
   "id": "a292fc92",
   "metadata": {
    "editable": true,
    "scrolled": true,
    "slideshow": {
     "slide_type": "slide"
    },
    "tags": []
   },
   "outputs": [
    {
     "name": "stdout",
     "output_type": "stream",
     "text": [
      "<class 'netCDF4._netCDF4.Dataset'>\n",
      "root group (NETCDF4 data model, file format HDF5):\n",
      "    CDI: Climate Data Interface version 2.2.4 (https://mpimet.mpg.de/cdi)\n",
      "    Conventions: CF-1.7 CMIP-6.2\n",
      "    source: ACCESS-CM2 (2019): \n",
      "aerosol: UKCA-GLOMAP-mode\n",
      "atmos: MetUM-HadGEM3-GA7.1 (N96; 192 x 144 longitude/latitude; 85 levels; top level 85 km)\n",
      "atmosChem: none\n",
      "land: CABLE2.5\n",
      "landIce: none\n",
      "ocean: ACCESS-OM2 (GFDL-MOM5, tripolar primarily 1deg; 360 x 300 longitude/latitude; 50 levels; top grid cell 0-10 m)\n",
      "ocnBgchem: none\n",
      "seaIce: CICE5.1.2 (same grid as ocean)\n",
      "    institution: CSIRO (Commonwealth Scientific and Industrial Research Organisation, Aspendale, Victoria 3195, Australia), ARCCSS (Australian Research Council Centre of Excellence for Climate System Science)\n",
      "    activity_id: CMIP\n",
      "    branch_method: standard\n",
      "    branch_time_in_child: 0.0\n",
      "    branch_time_in_parent: 0.0\n",
      "    creation_date: 2019-11-08T08:26:37Z\n",
      "    data_specs_version: 01.00.30\n",
      "    experiment: all-forcing simulation of the recent past\n",
      "    experiment_id: historical\n",
      "    external_variables: areacella\n",
      "    forcing_index: 1\n",
      "    frequency: mon\n",
      "    further_info_url: https://furtherinfo.es-doc.org/CMIP6.CSIRO-ARCCSS.ACCESS-CM2.historical.none.r1i1p1f1\n",
      "    grid: native atmosphere N96 grid (144x192 latxlon)\n",
      "    grid_label: gn\n",
      "    history: Mon Apr 22 10:36:21 2024: cdo remapdis,n90 CMIP6/enstimmean_1x1degcon_pr_mmday_Amon_oooo__historical_r1i1p1f1_gn_19790116-20141216_v20190710.nc CMIP6/enstimmean_n90dis_pr_mmday_Amon_oooo__historical_r1i1p1f1_gn_19790116-20141216_v20190710.nc\n",
      "Mon Nov 13 14:23:48 2023: cdo timmean timmean_1x1degcon_pr_mmday_Amon_oooo__historical_r1i1p1f1_gn_19790116-20141216_v20190710.nc enstimmean_1x1degcon_pr_mmday_Amon_oooo__historical_r1i1p1f1_gn_19790116-20141216_v20190710.nc\n",
      "Mon Nov 13 14:23:21 2023: cdo mulc,86400. timmean_1x1degcon_pr_Amon_oooo__historical_r1i1p1f1_gn_19790116-20141216_v20190710.nc timmean_1x1degcon_pr_mmday_Amon_oooo__historical_r1i1p1f1_gn_19790116-20141216_v20190710.nc\n",
      "Mon Nov 13 14:22:04 2023: cdo cat timmean_1x1degcon_pr_Amon_ACCESS-CM2_historical_r1i1p1f1_gn_19790116-20141216_v20191108.nc timmean_1x1degcon_pr_Amon_ACCESS-ESM1-5_historical_r1i1p1f1_gn_19790116-20141216_v20191115.nc timmean_1x1degcon_pr_Amon_AWI-CM-1-1-MR_historical_r1i1p1f1_gn_19790116-20141216_v20200511.nc timmean_1x1degcon_pr_Amon_AWI-ESM-1-1-LR_historical_r1i1p1f1_gn_19790116-20141216_v20200212.nc timmean_1x1degcon_pr_Amon_BCC-CSM2-MR_historical_r1i1p1f1_gn_19790116-20141216_v20181126.nc timmean_1x1degcon_pr_Amon_BCC-ESM1_historical_r1i1p1f1_gn_19790116-20141216_v20181214.nc timmean_1x1degcon_pr_Amon_CAMS-CSM1-0_historical_r1i1p1f1_gn_19790116-20141216_v20190708.nc timmean_1x1degcon_pr_Amon_CanESM5_historical_r1i1p1f1_gn_19790116-20141216_v20190429.nc timmean_1x1degcon_pr_Amon_CESM2-FV2_historical_r1i1p1f1_gn_19790115-20141215_v20191120.nc timmean_1x1degcon_pr_Amon_CESM2_historical_r1i1p1f1_gn_19790115-20141215_v20190401.nc timmean_1x1degcon_pr_Amon_CESM2-WACCM-FV2_historical_r1i1p1f1_gn_19790115-20141215_v20191120.nc timmean_1x1degcon_pr_Amon_CESM2-WACCM_historical_r1i1p1f1_gn_19790115-20141215_v20190415.nc timmean_1x1degcon_pr_Amon_CMCC-CM2-HR4_historical_r1i1p1f1_gn_19790116-20141216_v20200904.nc timmean_1x1degcon_pr_Amon_CMCC-CM2-SR5_historical_r1i1p1f1_gn_19790116-20141216_v20200616.nc timmean_1x1degcon_pr_Amon_CMCC-ESM2_historical_r1i1p1f1_gn_19790116-20141216_v20210114.nc timmean_1x1degcon_pr_Amon_E3SM-1-0_historical_r1i1p1f1_gr_19790116-20141216_v20190913.nc timmean_1x1degcon_pr_Amon_E3SM-1-1-ECA_historical_r1i1p1f1_gr_19790116-20141216_v20200623.nc timmean_1x1degcon_pr_Amon_E3SM-1-1_historical_r1i1p1f1_gr_19790116-20141216_v20191211.nc timmean_1x1degcon_pr_Amon_EC-Earth3-AerChem_historical_r1i1p1f1_gr_19790116-20141216_v20200624.nc timmean_1x1degcon_pr_Amon_EC-Earth3-CC_historical_r1i1p1f1_gr_19790116-20141216_v20210113.nc timmean_1x1degcon_pr_Amon_EC-Earth3-Veg-LR_historical_r1i1p1f1_gr_19790116-20141216_v20200217.nc timmean_1x1degcon_pr_Amon_FGOALS-f3-L_historical_r1i1p1f1_gr_19790116-20141216_v20190927.nc timmean_1x1degcon_pr_Amon_FGOALS-g3_historical_r1i1p1f1_gn_19790116-20141216_v20190818.nc timmean_1x1degcon_pr_Amon_FIO-ESM-2-0_historical_r1i1p1f1_gn_19790116-20141216_v20191209.nc timmean_1x1degcon_pr_Amon_GFDL-ESM4_historical_r1i1p1f1_gr1_19790116-20141216_v20190726.nc timmean_1x1degcon_pr_Amon_GISS-E2-1-H_historical_r1i1p1f1_gn_19790116-20141216_v20190403.nc timmean_1x1degcon_pr_Amon_IITM-ESM_historical_r1i1p1f1_gn_19790116-20141216_v20191226.nc timmean_1x1degcon_pr_Amon_INM-CM4-8_historical_r1i1p1f1_gr1_19790116-20141216_v20190530.nc timmean_1x1degcon_pr_Amon_INM-CM5-0_historical_r1i1p1f1_gr1_19790116-20141216_v20190610.nc timmean_1x1degcon_pr_Amon_IPSL-CM5A2-INCA_historical_r1i1p1f1_gr_19790116-20141216_v20200729.nc timmean_1x1degcon_pr_Amon_IPSL-CM6A-LR_historical_r1i1p1f1_gr_19790116-20141216_v20180803.nc timmean_1x1degcon_pr_Amon_KACE-1-0-G_historical_r1i1p1f1_gr_19790116-20141216_v20190910.nc timmean_1x1degcon_pr_Amon_MIROC6_historical_r1i1p1f1_gn_19790116-20141216_v20181212.nc timmean_1x1degcon_pr_Amon_MPI-ESM1-2-HR_historical_r1i1p1f1_gn_19790116-20141216_v20190710.nc timmean_1x1degcon_pr_Amon_MPI-ESM1-2-LR_historical_r1i1p1f1_gn_19790116-20141216_v20190710.nc timmean_1x1degcon_pr_Amon_MRI-ESM2-0_historical_r1i1p1f1_gn_19790116-20141216_v20190222.nc timmean_1x1degcon_pr_Amon_NESM3_historical_r1i1p1f1_gn_19790116-20141216_v20190630.nc timmean_1x1degcon_pr_Amon_NorCPM1_historical_r1i1p1f1_gn_19790116-20141216_v20200724.nc timmean_1x1degcon_pr_Amon_NorESM2-MM_historical_r1i1p1f1_gn_19790116-20141216_v20191108.nc timmean_1x1degcon_pr_Amon_SAM0-UNICON_historical_r1i1p1f1_gn_19790116-20141216_v20190323.nc timmean_1x1degcon_pr_Amon_TaiESM1_historical_r1i1p1f1_gn_19790116-20141216_v20200623.nc timmean_1x1degcon_pr_Amon_oooo__historical_r1i1p1f1_gn_19790116-20141216_v20190710.nc\n",
      "Mon Nov 13 13:51:46 2023: cdo timmean -remapcon,../grid_global_1x1deg.des pr_Amon_ACCESS-CM2_historical_r1i1p1f1_gn_19790116-20141216_v20191108.nc timmean_1x1degcon_pr_Amon_ACCESS-CM2_historical_r1i1p1f1_gn_19790116-20141216_v20191108.nc\n",
      "2019-11-08T08:26:37Z ; CMOR rewrote data to be consistent with CMIP6, CF-1.7 CMIP-6.2 and CF standards.\n",
      "    initialization_index: 1\n",
      "    institution_id: CSIRO-ARCCSS\n",
      "    mip_era: CMIP6\n",
      "    nominal_resolution: 250 km\n",
      "    notes: Exp: CM2-historical; Local ID: bj594; Variable: pr (['fld_s05i216'])\n",
      "    parent_activity_id: CMIP\n",
      "    parent_experiment_id: piControl\n",
      "    parent_mip_era: CMIP6\n",
      "    parent_source_id: ACCESS-CM2\n",
      "    parent_time_units: days since 0950-01-01\n",
      "    parent_variant_label: r1i1p1f1\n",
      "    physics_index: 1\n",
      "    product: model-output\n",
      "    realization_index: 1\n",
      "    realm: atmos\n",
      "    run_variant: forcing: GHG, Oz, SA, Sl, Vl, BC, OC, (GHG = CO2, N2O, CH4, CFC11, CFC12, CFC113, HCFC22, HFC125, HFC134a)\n",
      "    source_id: ACCESS-CM2\n",
      "    source_type: AOGCM\n",
      "    sub_experiment: none\n",
      "    sub_experiment_id: none\n",
      "    table_id: Amon\n",
      "    table_info: Creation Date:(30 April 2019) MD5:e14f55f257cceafb2523e41244962371\n",
      "    title: ACCESS-CM2 output prepared for CMIP6\n",
      "    variable_id: pr\n",
      "    variant_label: r1i1p1f1\n",
      "    version: v20191108\n",
      "    cmor_version: 3.4.0\n",
      "    tracking_id: hdl:21.14100/b4dd0f13-6073-4d10-b4e6-7d7a4401e37d\n",
      "    license: CMIP6 model data produced by CSIRO is licensed under a Creative Commons Attribution-ShareAlike 4.0 International License (https://creativecommons.org/licenses/).  Consult https://pcmdi.llnl.gov/CMIP6/TermsOfUse for terms of use governing CMIP6 output, including citation requirements and proper acknowledgment.  Further information about this data, including some limitations, can be found via the further_info_url (recorded as a global attribute in this file).  The data producers and data providers make no warranty, either express or implied, including, but not limited to, warranties of merchantability and fitness for a particular purpose. All liabilities arising from the supply of the information (including any liability arising in negligence) are excluded to the fullest extent permitted by law.\n",
      "    CDO: Climate Data Operators version 2.2.2 (https://mpimet.mpg.de/cdo)\n",
      "    dimensions(sizes): time(1), bnds(2), lon(360), lat(180)\n",
      "    variables(dimensions): float64 time(time), float64 time_bnds(time, bnds), float64 lon(lon), float64 lat(lat), float32 pr(time, lat, lon)\n",
      "    groups: \n"
     ]
    }
   ],
   "source": [
    "import netCDF4\n",
    "nc_File = netCDF4.Dataset(File)\n",
    "print(nc_File)"
   ]
  },
  {
   "cell_type": "markdown",
   "id": "7d46801a-12cf-48ac-a3b6-957c9996f3dd",
   "metadata": {
    "editable": true,
    "slideshow": {
     "slide_type": "slide"
    },
    "tags": []
   },
   "source": [
    "### using cdo within python"
   ]
  },
  {
   "cell_type": "code",
   "execution_count": 33,
   "id": "f988acfd",
   "metadata": {
    "editable": true,
    "slideshow": {
     "slide_type": "slide"
    },
    "tags": []
   },
   "outputs": [
    {
     "name": "stdout",
     "output_type": "stream",
     "text": [
      "cdo    fldmean: Processed 64800 values from 1 variable over 1 timestep [0.05s 49MB].\n",
      "<class 'netCDF4._netCDF4.Variable'>\n",
      "float64 pr(time, lat, lon)\n",
      "    _FillValue: nan\n",
      "    missing_value: nan\n",
      "    cell_methods: time: mean\n",
      "unlimited dimensions: time\n",
      "current shape = (1, 1, 1)\n",
      "filling off\n",
      "cdo    fldmean: Processed 64800 values from 1 variable over 1 timestep [0.05s 49MB].\n",
      "<class 'netCDF4._netCDF4.Variable'>\n",
      "float32 pr(time, lat, lon)\n",
      "    standard_name: pr\n",
      "    long_name: precipitation flux\n",
      "    units: kg m-2 s-1\n",
      "    param: 52.1.0\n",
      "    cell_methods: time: mean\n",
      "    _QuantizeBitRoundNumberOfSignificantBits: 13\n",
      "unlimited dimensions: time\n",
      "current shape = (1, 1, 1)\n",
      "filling off\n",
      "cdo    fldmean: Processed 64800 values from 1 variable over 1 timestep [0.05s 50MB].\n",
      "<class 'netCDF4._netCDF4.Variable'>\n",
      "float32 pr(time, lat, lon)\n",
      "    long_name: precipitation flux\n",
      "    units: kg m-2 s-1\n",
      "    cell_methods: time: mean cell: mean\n",
      "    component: atmo\n",
      "    vgrid: surface\n",
      "unlimited dimensions: time\n",
      "current shape = (1, 1, 1)\n",
      "filling off\n",
      "cdo    fldmean: Processed 64800 values from 1 variable over 1 timestep [0.04s 46MB].\n",
      "<class 'netCDF4._netCDF4.Variable'>\n",
      "float32 pr(time, lat, lon)\n",
      "    long_name: Total precipitation\n",
      "    units: m\n",
      "    _FillValue: -32767.0\n",
      "    missing_value: -32767.0\n",
      "    cell_methods: time: mean\n",
      "unlimited dimensions: time\n",
      "current shape = (1, 1, 1)\n",
      "filling on\n",
      "cdo    fldmean: Processed 64800 values from 1 variable over 1 timestep [0.05s 49MB].\n",
      "<class 'netCDF4._netCDF4.Variable'>\n",
      "float64 pr(time, lat, lon)\n",
      "    _FillValue: nan\n",
      "    missing_value: nan\n",
      "    cell_methods: time: mean\n",
      "unlimited dimensions: time\n",
      "current shape = (1, 1, 1)\n",
      "filling off\n",
      "cdo    fldmean: Processed 64800 values from 1 variable over 1 timestep [0.04s 49MB].\n",
      "<class 'netCDF4._netCDF4.Variable'>\n",
      "float64 pr(time, lat, lon)\n",
      "    units: m\n",
      "    _FillValue: 9999.0\n",
      "    missing_value: 9999.0\n",
      "    cell_methods: time: mean\n",
      "    paramId: 228\n",
      "    dataType: fc\n",
      "    numberOfPoints: 1038240\n",
      "    typeOfLevel: surface\n",
      "    stepUnits: 1\n",
      "    stepType: accum\n",
      "    gridType: regular_ll\n",
      "    shortName: tp\n",
      "    name: Total precipitation\n",
      "    cfVarName: tp\n",
      "    missingValue: 9999\n",
      "    NV: 0\n",
      "    gridDefinitionDescription: Latitude/longitude\n",
      "unlimited dimensions: time\n",
      "current shape = (1, 1, 1)\n",
      "filling off\n",
      "cdo    fldmean: Processed 64800 values from 1 variable over 1 timestep [0.04s 50MB].\n",
      "<class 'netCDF4._netCDF4.Variable'>\n",
      "float32 pr(time, lat, lon)\n",
      "    long_name: precipitation flux\n",
      "    units: kg m-2 s-1\n",
      "    cell_methods: time: mean cell: mean\n",
      "    component: atmo\n",
      "    vgrid: surface\n",
      "unlimited dimensions: time\n",
      "current shape = (1, 1, 1)\n",
      "filling off\n",
      "cdo    fldmean: Processed 64800 values from 1 variable over 1 timestep [0.04s 49MB].\n",
      "<class 'netCDF4._netCDF4.Variable'>\n",
      "float32 pr(time, lat, lon)\n",
      "    standard_name: precipitation_flux\n",
      "    long_name: Precipitation\n",
      "    units: kg m-2 s-1\n",
      "    _FillValue: 1e+20\n",
      "    missing_value: 1e+20\n",
      "    cell_methods: area: time: mean\n",
      "    comment: includes both liquid and solid phases\n",
      "    cell_measures: area: areacella\n",
      "    history: 2019-11-08T08:10:39Z altered by CMOR: replaced missing value flag (-1.07374e+09) with standard missing value (1e+20).\n",
      "unlimited dimensions: time\n",
      "current shape = (1, 1, 1)\n",
      "filling off\n",
      "cdo    fldmean: Processed 64800 values from 1 variable over 1 timestep [0.04s 49MB].\n",
      "<class 'netCDF4._netCDF4.Variable'>\n",
      "float32 pr(time, lat, lon)\n",
      "    standard_name: precipitation_flux\n",
      "    long_name: Precipitation\n",
      "    units: kg m-2 s-1\n",
      "    _FillValue: 1e+20\n",
      "    missing_value: 1e+20\n",
      "    cell_methods: area: time: mean\n",
      "    comment: includes both liquid and solid phases\n",
      "    cell_measures: area: areacella\n",
      "    history: 2019-11-08T08:26:36Z altered by CMOR: replaced missing value flag (-1.07374e+09) with standard missing value (1e+20).\n",
      "unlimited dimensions: time\n",
      "current shape = (1, 1, 1)\n",
      "filling off\n",
      "cdo    fldmean: Processed 648000 values from 10 variables over 1 timestep [0.06s 53MB].\n",
      "<class 'netCDF4._netCDF4.Variable'>\n",
      "float32 pr(time, lat, lon)\n",
      "    standard_name: pr\n",
      "    long_name: precipitation flux\n",
      "    units: kg m-2 s-1\n",
      "    param: 52.1.0\n",
      "    level_type: atmosphere\n",
      "    cell_methods: time: mean\n",
      "unlimited dimensions: time\n",
      "current shape = (1, 1, 1)\n",
      "filling off\n",
      "cdo    fldmean: Processed 64800 values from 1 variable over 1 timestep [0.04s 49MB].\n",
      "<class 'netCDF4._netCDF4.Variable'>\n",
      "float32 pr(time, lat, lon)\n",
      "    standard_name: pr\n",
      "    long_name: precipitation flux\n",
      "    units: kg m-2 s-1\n",
      "    param: 52.1.0\n",
      "    level_type: atmosphere\n",
      "    cell_methods: time: mean\n",
      "unlimited dimensions: time\n",
      "current shape = (1, 1, 1)\n",
      "filling off\n",
      "cdo    fldmean: Processed 64800 values from 1 variable over 1 timestep [0.04s 49MB].\n",
      "<class 'netCDF4._netCDF4.Variable'>\n",
      "float64 pr(time, lat, lon)\n",
      "    long_name: multi_satellite_calibrated_precipitation\n",
      "    units: mm/h\n",
      "    _FillValue: -32767.0\n",
      "    missing_value: -32767.0\n",
      "    cell_methods: time: mean\n",
      "    comment: This is the multi-satellite precipitation rate calibrated with gauge measurements\n",
      "unlimited dimensions: time\n",
      "current shape = (1, 1, 1)\n",
      "filling off\n",
      "cdo    fldmean: Processed 64800 values from 1 variable over 1 timestep [0.04s 49MB].\n",
      "<class 'netCDF4._netCDF4.Variable'>\n",
      "float64 pr(time, lat, lon)\n",
      "    _FillValue: nan\n",
      "    missing_value: nan\n",
      "    cell_methods: time: mean\n",
      "unlimited dimensions: time\n",
      "current shape = (1, 1, 1)\n",
      "filling off\n",
      "cdo    fldmean: Processed 648000 values from 10 variables over 1 timestep [0.05s 53MB].\n",
      "<class 'netCDF4._netCDF4.Variable'>\n",
      "float32 pr(time, lat, lon)\n",
      "    standard_name: pr\n",
      "    long_name: precipitation flux\n",
      "    units: kg m-2 s-1\n",
      "    param: 52.1.0\n",
      "    level_type: atmosphere\n",
      "    cell_methods: time: mean\n",
      "unlimited dimensions: time\n",
      "current shape = (1, 1, 1)\n",
      "filling off\n"
     ]
    }
   ],
   "source": [
    "import glob\n",
    "import os\n",
    "def spct(comm):\n",
    "    spc(comm,shell=True)\n",
    "\n",
    "in_files = glob.glob('modeldata_precipitation/timmean_*.nc')\n",
    "\n",
    "for in_file in in_files:\n",
    "    out_file = in_file.replace('modeldata_precipitation/timmean','modeldata_precipitation/fldmean_timmean')\n",
    "    \n",
    "    if not os.path.isfile(out_file):\n",
    "        spct('cdo fldmean '+in_file+' '+out_file)\n",
    "    if     os.path.isfile(out_file):\n",
    "        print(netCDF4.Dataset(out_file).variables['pr'])"
   ]
  },
  {
   "cell_type": "code",
   "execution_count": 27,
   "id": "642fc06d-cc15-4315-8ea3-116a123ddd1b",
   "metadata": {
    "editable": true,
    "scrolled": true,
    "slideshow": {
     "slide_type": "skip"
    },
    "tags": []
   },
   "outputs": [
    {
     "name": "stdout",
     "output_type": "stream",
     "text": [
      "modeldata_precipitation/timmean_5Y_n90dis_IFS4_pr_0p25deg.nc\n",
      "modeldata_precipitation/timmean_5Y_n90disn512con_ngc3028_pr_Nzoom9_P1D.nc\n",
      "modeldata_precipitation/timmean_5Y_n90dis_ngc4008_pr_Nzoom7_P1D.nc\n",
      "modeldata_precipitation/timmean_5Y_n90dis_ngc40AMIP_pr_Nzoom8_P1D.nc\n",
      "modeldata_precipitation/timmean_ensmean_n90con_pr_AMIP6_oooo.nc\n",
      "modeldata_precipitation/timmean_ensmean_n90dis_pr_mmday_Amon_oooo__historical_r1i1p1f1_gn_19790116-20141216_v20190710.nc\n",
      "modeldata_precipitation/timmean_monmean_n90dis_ngc2013_atm_2d_3h_mean_oooo.nc\n",
      "modeldata_precipitation/timmean_monmean_n90dis_rthk001_atm_2d_3h_mean_oooo.nc\n",
      "modeldata_precipitation/timmean_n90con_IMERG_trop_20162020.nc\n",
      "modeldata_precipitation/timmean_n90dis_IFS_4.4-FESOM_5-cycle3_2D_monthly_0.25deg_pr.nc\n",
      "modeldata_precipitation/timmean_n90dis_IFS_9-FESOM_5-cycle3_2D_monthly_0.25deg_pr.nc\n",
      "modeldata_precipitation/timmean_n90dis_IFS_9-NEMO_25-cycle3_2D_monthly_0.25deg_pr.nc\n",
      "modeldata_precipitation/timmean_pr_n90dis_daymean_ngc2009_atm_2d_30min_mean_2021oooo.nc\n",
      "modeldata_precipitation/timmean_pr_n90dis_ERA5_20162020.nc\n"
     ]
    }
   ],
   "source": [
    "! ls modeldata_precipitation/timm*"
   ]
  },
  {
   "cell_type": "markdown",
   "id": "8cececb7-c0dd-4f1e-9f38-49e42bd6939d",
   "metadata": {
    "editable": true,
    "slideshow": {
     "slide_type": "slide"
    },
    "tags": []
   },
   "source": [
    "### Tasks:\n",
    "1. Install the programs and python modules listed in slide 2. \n",
    "2. Interpret the model output given in folder \"modeldata_precipitation\" using cdo and ncview. \n",
    "3. Produce plots of the zonal average of precipitation flux in units of mm/day using python and its modules matplotlib.\n",
    "4. Produce maps of precipitation flux in units of mm/day using python and its modules matplotlib and cartopy.\n",
    "5. Produce maps of precipitation biases of models with respect to observations \"IMERG: timmean_n90con_IMERG_trop_20162020.nc\".\n",
    "\n",
    "\n",
    "\n",
    "### *have fun!*"
   ]
  },
  {
   "cell_type": "code",
   "execution_count": 12,
   "id": "476d93bf-5218-4efa-a0a4-082afe178c69",
   "metadata": {
    "editable": true,
    "scrolled": true,
    "slideshow": {
     "slide_type": "skip"
    },
    "tags": []
   },
   "outputs": [
    {
     "name": "stdout",
     "output_type": "stream",
     "text": [
      "[NbConvertApp] Converting notebook jupy-cdo_tutorial.ipynb to slides\n",
      "[NbConvertApp] Writing 378420 bytes to jupy-cdo_tutorial.slides.html\n"
     ]
    }
   ],
   "source": [
    "!jupyter nbconvert jupy-cdo_tutorial.ipynb --theme=Jupyterlab-light --to slides --SlidesExporter.reveal_scroll=True  --SlidesExporter.reveal_theme=moon --SlidesExporter.theme=dark\n",
    "\n",
    "#--SlidesExporter.reveal_theme=white  --template nbconvert_template.tpl #slides#--post serve\n"
   ]
  }
 ],
 "metadata": {
  "kernelspec": {
   "display_name": "Python 3 (ipykernel)",
   "language": "python",
   "name": "python3"
  },
  "language_info": {
   "codemirror_mode": {
    "name": "ipython",
    "version": 3
   },
   "file_extension": ".py",
   "mimetype": "text/x-python",
   "name": "python",
   "nbconvert_exporter": "python",
   "pygments_lexer": "ipython3",
   "version": "3.10.12"
  }
 },
 "nbformat": 4,
 "nbformat_minor": 5
}
