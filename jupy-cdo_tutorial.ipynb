{
 "cells": [
  {
   "cell_type": "markdown",
   "id": "d83550fe-824b-4c99-9544-00b35b4e5fab",
   "metadata": {
    "editable": true,
    "scrollable": true,
    "scrolled": true,
    "slideshow": {
     "slide_type": "slide"
    },
    "tags": []
   },
   "source": [
    "# cdo & python in jupyter for climate research\n",
    "\n",
    "is *all* you need.   "
   ]
  },
  {
   "cell_type": "markdown",
   "id": "2b0759ee-b974-44d9-b9f1-e7ec532220bf",
   "metadata": {
    "editable": true,
    "scrollable": true,
    "scrolled": true,
    "slideshow": {
     "slide_type": "subslide"
    },
    "tags": []
   },
   "source": [
    "## cdo := climate data operators\n",
    "https://code.mpimet.mpg.de/projects/cdo\n",
    "* is a command line computer software suite \n",
    "* is intuitive, fast as parallelizable, reliable and well-maintained\n",
    "* retains netCDF metadata\n",
    "\n",
    "  "
   ]
  },
  {
   "cell_type": "markdown",
   "id": "c612257c-cea8-45be-9d70-7c1827f89a6b",
   "metadata": {
    "editable": true,
    "scrollable": true,
    "scrolled": true,
    "slideshow": {
     "slide_type": "subslide"
    },
    "tags": []
   },
   "source": [
    "## netCDF := data format with meta-data\n",
    "   \n",
    "Adrian Tompkins - Climate Unboxed:\n",
    "   \n",
    "[![Adrian Tompkins - Climate Unboxed](http://img.youtube.com/vi/UvNBnjiTXa0/0.jpg)](https://www.youtube.com/watch?v=UvNBnjiTXa0)\n",
    "\n",
    "   "
   ]
  },
  {
   "cell_type": "markdown",
   "id": "cc7d9e97-26ea-47f8-b0d3-0f5f64033716",
   "metadata": {
    "editable": true,
    "scrollable": true,
    "scrolled": true,
    "slideshow": {
     "slide_type": "subslide"
    },
    "tags": []
   },
   "source": [
    "## python := the standard programming language in climate research \n",
    "https://en.wikipedia.org/wiki/Python_(programming_language)\n",
    "   \n",
    "* open-source\n",
    "* readable and universal\n",
    "* allows you to easily download from the *Climate Data Store* using the cdsapi\n",
    "<!-- * Multi-paradigm: object-oriented, procedural (imperative), functional, structured, reflective -->\n",
    "\n",
    "   "
   ]
  },
  {
   "cell_type": "markdown",
   "id": "f957f8a0-1b57-4e49-956d-f1dd3ac041a7",
   "metadata": {
    "editable": true,
    "scrollable": true,
    "scrolled": true,
    "slideshow": {
     "slide_type": "subslide"
    },
    "tags": []
   },
   "source": [
    "## jupyter := interactive programming environment\n",
    "   \n",
    "* provides file-browser, editor and computing interface \n",
    "* the *jupyter-notebook* is a collection of cells (input) that can be executed, with the output being displayed directly below.\n",
    "    * a most common way to share scientific code.\n",
    "    * can be exported for presentations in .html or .pdf, like this one here.\n",
    "   "
   ]
  },
  {
   "cell_type": "markdown",
   "id": "eb8b7316-ea1d-4d13-91a2-d632ff98bad9",
   "metadata": {
    "editable": true,
    "slideshow": {
     "slide_type": "slide"
    },
    "tags": []
   },
   "source": [
    "# Everything else you need for research\n",
    "## github := a version control program and platform\n",
    "* allows you to maintain and share code\n",
    "## latex\n",
    "* for writing theses and papers\n",
    "## inkscape\n",
    "* for figures and graphics"
   ]
  },
  {
   "cell_type": "markdown",
   "id": "bdefa41e-2158-4625-a932-29c9028a61fb",
   "metadata": {
    "editable": true,
    "slideshow": {
     "slide_type": "slide"
    },
    "tags": []
   },
   "source": [
    "## software requirements on linux:\n",
    "\n",
    "* sudo apt-get install cdo\n",
    "* sudo apt-get install ncview\n",
    "* sudo apt-get install python3\n",
    "* sudo apt-get install ipython3\n",
    "* sudo apt-get install python3-pip\n",
    "\n",
    "* pip install \n",
    "    * \tnetCDF4\n",
    "    * \tseaborn\n",
    "    * \tcartopy\n",
    "    * \txarray\n",
    "    * \t...\n",
    "\n",
    "* sudo apt-get install jupyterlab\n",
    "* sudo apt-get spyder"
   ]
  },
  {
   "cell_type": "markdown",
   "id": "2adb0190-cdf1-46b6-9b13-d3882cff19ff",
   "metadata": {
    "editable": true,
    "slideshow": {
     "slide_type": "slide"
    },
    "tags": []
   },
   "source": [
    "## Let's get started!\n",
    "with some model output, reanalysis and observations:"
   ]
  },
  {
   "cell_type": "code",
   "execution_count": 101,
   "id": "253a8256-4196-4e23-8b60-fc452410f518",
   "metadata": {
    "editable": true,
    "slideshow": {
     "slide_type": "subslide"
    },
    "tags": []
   },
   "outputs": [
    {
     "name": "stdout",
     "output_type": "stream",
     "text": [
      "modeldata_precipitation/timmean_5Y_n90dis_IFS4_pr_0p25deg.nc\n",
      "modeldata_precipitation/timmean_5Y_n90disn512con_ngc3028_pr_Nzoom9_P1D.nc\n",
      "modeldata_precipitation/timmean_5Y_n90dis_ngc4008_pr_Nzoom7_P1D.nc\n",
      "modeldata_precipitation/timmean_5Y_n90dis_ngc40AMIP_pr_Nzoom8_P1D.nc\n",
      "modeldata_precipitation/timmean_ensmean_n90con_pr_AMIP6_oooo.nc\n",
      "modeldata_precipitation/timmean_ensmean_n90dis_pr_mmday_Amon_oooo__historical_r1i1p1f1_gn_19790116-20141216_v20190710.nc\n",
      "modeldata_precipitation/timmean_monmean_n90dis_ngc2013_atm_2d_3h_mean_oooo.nc\n",
      "modeldata_precipitation/timmean_monmean_n90dis_rthk001_atm_2d_3h_mean_oooo.nc\n",
      "modeldata_precipitation/timmean_n90con_IMERG_trop_20162020.nc\n",
      "modeldata_precipitation/timmean_n90dis_IFS_4.4-FESOM_5-cycle3_2D_monthly_0.25deg_pr.nc\n",
      "modeldata_precipitation/timmean_n90dis_IFS_9-FESOM_5-cycle3_2D_monthly_0.25deg_pr.nc\n",
      "modeldata_precipitation/timmean_n90dis_IFS_9-NEMO_25-cycle3_2D_monthly_0.25deg_pr.nc\n",
      "modeldata_precipitation/timmean_pr_n90dis_daymean_ngc2009_atm_2d_30min_mean_2021oooo.nc\n",
      "modeldata_precipitation/timmean_pr_n90dis_ERA5_20162020.nc\n"
     ]
    }
   ],
   "source": [
    "! ls modeldata_precipitation/timmean*"
   ]
  },
  {
   "cell_type": "markdown",
   "id": "317eeba4-9a3b-44f6-bbd1-22b76cd85e64",
   "metadata": {
    "editable": true,
    "slideshow": {
     "slide_type": "subslide"
    },
    "tags": []
   },
   "source": [
    "and cdo:   \n",
    "Basic syntax:\n",
    "    cdo *operator* infile.nc outfile.nc"
   ]
  },
  {
   "cell_type": "code",
   "execution_count": 102,
   "id": "d409ee07-196e-476d-9de5-b8fe87c1ae5a",
   "metadata": {
    "editable": true,
    "slideshow": {
     "slide_type": "subslide"
    },
    "tags": []
   },
   "outputs": [
    {
     "name": "stdout",
     "output_type": "stream",
     "text": [
      "\u001b[0;1m   File format\u001b[0m : NetCDF4\n",
      "\u001b[0;1m    -1 : Institut Source   T Steptype Levels Num    Points Num Dtype : Parameter name\u001b[0m\n",
      "     1 : \u001b[34munknown  unknown  v instant  \u001b[0m\u001b[32m     1 \u001b[0m  1 \u001b[32m    64800 \u001b[0m  1 \u001b[34m F64  \u001b[0m: pr            \n",
      "\u001b[0;1m   Grid coordinates\u001b[0m :\n",
      "     1 : \u001b[34mgaussian                \u001b[0m : \u001b[32mpoints=64800 (360x180)  F90\u001b[0m\n",
      "                              lon : 0 to 359 by 1 degrees_east  circular\n",
      "                              lat : 89.23664 to -89.23664 degrees_north\n",
      "\u001b[0;1m   Vertical coordinates\u001b[0m :\n",
      "     1 : \u001b[34msurface                 \u001b[0m :\u001b[32m levels=1\u001b[0m\n",
      "\u001b[0;1m   Time coordinate\u001b[0m :\n",
      "                             time : \u001b[32m1 step\n",
      "\u001b[0m     RefTime =  1970-01-01 00:00:00  Units = seconds  Calendar = proleptic_gregorian  Bounds = true\n",
      "  YYYY-MM-DD hh:mm:ss  YYYY-MM-DD hh:mm:ss  YYYY-MM-DD hh:mm:ss  YYYY-MM-DD hh:mm:ss\n",
      "\u001b[35m  2022-07-16 12:00:00\u001b[0m\n",
      "\u001b[32mcdo    sinfon: \u001b[0mProcessed 1 variable over 1 timestep [0.01s 74MB].\n"
     ]
    }
   ],
   "source": [
    "! cdo sinfov modeldata_precipitation/timmean_5Y_n90dis_IFS4_pr_0p25deg.nc\n"
   ]
  },
  {
   "cell_type": "code",
   "execution_count": 103,
   "id": "4527b078-b0b0-48c5-b089-2cb1d15deb5a",
   "metadata": {
    "editable": true,
    "slideshow": {
     "slide_type": "subslide"
    },
    "tags": []
   },
   "outputs": [
    {
     "name": "stdout",
     "output_type": "stream",
     "text": [
      "cdo    fldmean:                        1 1 1 1 1 1 1 1 1 1 2 2 2 2 2 2 2 2 2 2 3 3 3 3 3 3 3 3 3 3 4 4 4 4 4 4 4 4 4 4 5 5 5 5 5 5 5 5 5 5 6 6 6 6 6 6 6 6 6 6 7 7 7 7 7 7 7 7 7 7 8 8 8 8 8 8 8 8 8 8 9 9 9 9 9 9 9 9 9 910\u001b[32mcdo    fldmean: \u001b[0mProcessed 64800 values from 1 variable over 1 timestep [0.06s 74MB].\n",
      "\u001b[0;1m    -1 :       Date     Time   Level Gridsize    Miss :     Minimum        Mean     Maximum : Parameter name\n",
      "\u001b[0m     1 :\u001b[35m 2022-07-16 12:00:00 \u001b[0m\u001b[32m      0        1       0 \u001b[0m:\u001b[34m                0.090228            \u001b[0m : pr            \n",
      "\u001b[32mcdo    infon: \u001b[0mProcessed 1 value from 1 variable over 1 timestep [0.01s 74MB].\n"
     ]
    }
   ],
   "source": [
    "! cdo fldmean modeldata_precipitation/timmean_5Y_n90dis_IFS4_pr_0p25deg.nc modeldata_precipitation/fldtimmean_5Y_n90dis_IFS4_pr_0p25deg.nc\n",
    "! cdo infov modeldata_precipitation/fldtimmean_5Y_n90dis_IFS4_pr_0p25deg.nc\n"
   ]
  },
  {
   "cell_type": "markdown",
   "id": "fb4822a4-1f22-4efd-9261-dfd308cafa28",
   "metadata": {
    "editable": true,
    "slideshow": {
     "slide_type": "subslide"
    },
    "tags": []
   },
   "source": [
    "Piping commands:   \n",
    "cdo *operator1* *-operator2* *-operator3* ...  *-operatorN* infile.nc outfile.nc"
   ]
  },
  {
   "cell_type": "code",
   "execution_count": 104,
   "id": "9691406c-029f-415b-ab20-6a08966ba68f",
   "metadata": {
    "editable": true,
    "slideshow": {
     "slide_type": "subslide"
    },
    "tags": []
   },
   "outputs": [
    {
     "name": "stdout",
     "output_type": "stream",
     "text": [
      "\u001b[32mcdo(1) mulc: \u001b[0mProcess started\n",
      "\u001b[32mcdo(2) divc: \u001b[0mProcess started\n",
      "\u001b[0;1m    -1 :       Date     Time   Level Gridsize    Miss :     Minimum        Mean     Maximum : Parameter name\n",
      "\u001b[0m     1 :\u001b[35m 2022-07-16 12:00:00 \u001b[0m\u001b[32m      0        1       0 \u001b[0m:\u001b[34m                  3.0076            \u001b[0m : pr            \n",
      "\u001b[32mcdo(2) divc: \u001b[0mProcessed 1 value from 1 variable over 1 timestep.\n",
      "\u001b[32mcdo(1) mulc: \u001b[0mProcessed 1 value from 1 variable over 1 timestep.\n",
      "\u001b[32mcdo    infon: \u001b[0mProcessed 1 value from 1 variable over 1 timestep [0.01s 74MB].\n"
     ]
    }
   ],
   "source": [
    "! cdo infov -mulc,1000. -divc,30. modeldata_precipitation/fldtimmean_5Y_n90dis_IFS4_pr_0p25deg.nc #modeldata_precipitation/mmday_fldtimmean_5Y_n90dis_IFS4_pr_0p25deg.nc\n"
   ]
  },
  {
   "cell_type": "markdown",
   "id": "961c89fd-2428-413c-a073-3f3b0b46af5c",
   "metadata": {
    "editable": true,
    "slideshow": {
     "slide_type": "slide"
    },
    "tags": []
   },
   "source": [
    "### Let's get started pythonially!"
   ]
  },
  {
   "cell_type": "code",
   "execution_count": 105,
   "id": "953765f7",
   "metadata": {
    "editable": true,
    "slideshow": {
     "slide_type": "subslide"
    },
    "tags": []
   },
   "outputs": [],
   "source": [
    "file = 'modeldata_precipitation/timmean_5Y_n90dis_IFS4_pr_0p25deg.nc'\n"
   ]
  },
  {
   "cell_type": "code",
   "execution_count": 106,
   "id": "5c6ecdeb-f2f0-4dc4-8071-0762f4122028",
   "metadata": {
    "editable": true,
    "slideshow": {
     "slide_type": "subslide"
    },
    "tags": []
   },
   "outputs": [
    {
     "name": "stdout",
     "output_type": "stream",
     "text": [
      "   File format : NetCDF4\n",
      "    -1 : Institut Source   T Steptype Levels Num    Points Num Dtype : Parameter name\n",
      "     1 : unknown  unknown  v instant       1   1     64800   1  F64  : pr            \n",
      "   Grid coordinates :\n",
      "     1 : gaussian                 : points=64800 (360x180)  F90\n",
      "                              lon : 0 to 359 by 1 degrees_east  circular\n",
      "                              lat : 89.23664 to -89.23664 degrees_north\n",
      "   Vertical coordinates :\n",
      "     1 : surface                  : levels=1\n",
      "   Time coordinate :\n",
      "                             time : 1 step\n",
      "     RefTime =  1970-01-01 00:00:00  Units = seconds  Calendar = proleptic_gregorian  Bounds = true\n",
      "  YYYY-MM-DD hh:mm:ss  YYYY-MM-DD hh:mm:ss  YYYY-MM-DD hh:mm:ss  YYYY-MM-DD hh:mm:ss\n",
      "  2022-07-16 12:00:00\n",
      "cdo    sinfon: Processed 1 variable over 1 timestep [0.01s 46MB].\n"
     ]
    }
   ],
   "source": [
    "import subprocess\n",
    "def spct(comm):\n",
    "    subprocess.call(comm,shell=True)\n",
    "    \n",
    "spct('cdo sinfov '+ file)\n"
   ]
  },
  {
   "cell_type": "markdown",
   "id": "01e45b78-d55a-430f-9b1b-db17e4ecce33",
   "metadata": {
    "editable": true,
    "slideshow": {
     "slide_type": "slide"
    },
    "tags": []
   },
   "source": [
    "### ncview for a quick look at netcdf files"
   ]
  },
  {
   "cell_type": "code",
   "execution_count": 107,
   "id": "96277c26",
   "metadata": {
    "editable": true,
    "scrolled": true,
    "slideshow": {
     "slide_type": "subslide"
    },
    "tags": []
   },
   "outputs": [],
   "source": [
    "# spct('ncview '+file)\n"
   ]
  },
  {
   "cell_type": "markdown",
   "id": "f07bf944-ead2-466f-8c3a-c0f3d284dba4",
   "metadata": {
    "editable": true,
    "slideshow": {
     "slide_type": "subslide"
    },
    "tags": []
   },
   "source": [
    "![Image](ncview_file.png)"
   ]
  },
  {
   "cell_type": "markdown",
   "id": "76de7d65-bf80-4475-9759-3165098c67d6",
   "metadata": {
    "editable": true,
    "slideshow": {
     "slide_type": "slide"
    },
    "tags": []
   },
   "source": [
    "### have a closer look using python module netCDF4"
   ]
  },
  {
   "cell_type": "code",
   "execution_count": 108,
   "id": "a292fc92",
   "metadata": {
    "editable": true,
    "scrolled": true,
    "slideshow": {
     "slide_type": "subslide"
    },
    "tags": []
   },
   "outputs": [
    {
     "name": "stdout",
     "output_type": "stream",
     "text": [
      "<class 'netCDF4._netCDF4.Variable'>\n",
      "float64 pr(time, lat, lon)\n",
      "    units: m\n",
      "    CDI_grid_type: gaussian\n",
      "    CDI_grid_num_LPE: 90\n",
      "    _FillValue: 9999.0\n",
      "    missing_value: 9999.0\n",
      "    cell_methods: time: mean\n",
      "    paramId: 228\n",
      "    dataType: fc\n",
      "    numberOfPoints: 1038240\n",
      "    typeOfLevel: surface\n",
      "    stepUnits: 1\n",
      "    stepType: accum\n",
      "    gridType: regular_ll\n",
      "    shortName: tp\n",
      "    name: Total precipitation\n",
      "    cfVarName: tp\n",
      "    missingValue: 9999\n",
      "    NV: 0\n",
      "    gridDefinitionDescription: Latitude/longitude\n",
      "unlimited dimensions: time\n",
      "current shape = (1, 180, 360)\n",
      "filling off\n"
     ]
    }
   ],
   "source": [
    "import netCDF4\n",
    "nc_file = netCDF4.Dataset(file)\n",
    "print(nc_file.variables['pr'])"
   ]
  },
  {
   "cell_type": "markdown",
   "id": "34841617-69c2-4893-81d2-fe11d97c5564",
   "metadata": {
    "editable": true,
    "slideshow": {
     "slide_type": "slide"
    },
    "tags": []
   },
   "source": [
    "## CDSAPI\n",
    "[![Adrian Tompkins - Climate Unboxed](http://img.youtube.com/vi/AmF1nn7o6Hc/0.jpg)](https://www.youtube.com/watch?v=AmF1nn7o6Hc)\n"
   ]
  },
  {
   "cell_type": "code",
   "execution_count": 112,
   "id": "378e9d91-25ad-43ec-90bd-7dd86010007c",
   "metadata": {
    "editable": true,
    "slideshow": {
     "slide_type": "subslide"
    },
    "tags": []
   },
   "outputs": [
    {
     "name": "stderr",
     "output_type": "stream",
     "text": [
      "2024-05-08 11:16:35,646 INFO Welcome to the CDS\n",
      "2024-05-08 11:16:35,649 INFO Sending request to https://cds.climate.copernicus.eu/api/v2/resources/reanalysis-era5-single-levels-monthly-means\n"
     ]
    },
    {
     "name": "stdout",
     "output_type": "stream",
     "text": [
      "2016\n"
     ]
    },
    {
     "name": "stderr",
     "output_type": "stream",
     "text": [
      "2024-05-08 11:16:35,760 INFO Request is queued\n",
      "2024-05-08 11:16:36,777 INFO Request is running\n",
      "2024-05-08 11:16:49,033 INFO Request is completed\n",
      "2024-05-08 11:16:49,034 INFO Downloading https://download-0002-clone.copernicus-climate.eu/cache-compute-0002/cache/data6/adaptor.mars.internal-1715159805.0285292-16619-16-b76a9a9a-ec11-4a6a-89bf-4f37fe19961b.nc to downloadERA5_oooo_2016.nc (213.9M)\n",
      "2024-05-08 11:17:12,749 INFO Download rate 9M/s                                                                                                 \n",
      "2024-05-08 11:17:12,788 INFO Welcome to the CDS\n",
      "2024-05-08 11:17:12,790 INFO Sending request to https://cds.climate.copernicus.eu/api/v2/resources/reanalysis-era5-single-levels-monthly-means\n",
      "2024-05-08 11:17:12,842 INFO Request is queued\n"
     ]
    },
    {
     "name": "stdout",
     "output_type": "stream",
     "text": [
      "2017\n"
     ]
    },
    {
     "name": "stderr",
     "output_type": "stream",
     "text": [
      "2024-05-08 11:17:13,861 INFO Request is running\n",
      "2024-05-08 11:17:26,120 INFO Request is completed\n",
      "2024-05-08 11:17:26,121 INFO Downloading https://download-0003-clone.copernicus-climate.eu/cache-compute-0003/cache/data9/adaptor.mars.internal-1715159840.826419-28386-3-fae4d674-30d7-497e-a45c-b223140723f7.nc to downloadERA5_oooo_2017.nc (213.9M)\n",
      "2024-05-08 11:17:50,694 INFO Download rate 8.7M/s                                                                                               \n",
      "2024-05-08 11:17:50,721 INFO Welcome to the CDS\n",
      "2024-05-08 11:17:50,722 INFO Sending request to https://cds.climate.copernicus.eu/api/v2/resources/reanalysis-era5-single-levels-monthly-means\n",
      "2024-05-08 11:17:50,754 INFO Request is queued\n"
     ]
    },
    {
     "name": "stdout",
     "output_type": "stream",
     "text": [
      "2018\n"
     ]
    },
    {
     "name": "stderr",
     "output_type": "stream",
     "text": [
      "2024-05-08 11:17:51,771 INFO Request is running\n",
      "2024-05-08 11:18:04,029 INFO Request is completed\n",
      "2024-05-08 11:18:04,030 INFO Downloading https://download-0015-clone.copernicus-climate.eu/cache-compute-0015/cache/data9/adaptor.mars.internal-1715159879.735495-23781-1-41478cc0-c0a2-45a5-b6e0-bc75698a2e58.nc to downloadERA5_oooo_2018.nc (213.9M)\n",
      "2024-05-08 11:18:26,731 INFO Download rate 9.4M/s                                                                                               \n",
      "2024-05-08 11:18:26,760 INFO Welcome to the CDS\n",
      "2024-05-08 11:18:26,761 INFO Sending request to https://cds.climate.copernicus.eu/api/v2/resources/reanalysis-era5-single-levels-monthly-means\n",
      "2024-05-08 11:18:26,797 INFO Request is queued\n"
     ]
    },
    {
     "name": "stdout",
     "output_type": "stream",
     "text": [
      "2019\n"
     ]
    },
    {
     "name": "stderr",
     "output_type": "stream",
     "text": [
      "2024-05-08 11:18:40,064 INFO Request is running\n",
      "2024-05-08 11:18:59,098 INFO Request is completed\n",
      "2024-05-08 11:18:59,100 INFO Downloading https://download-0015-clone.copernicus-climate.eu/cache-compute-0015/cache/data2/adaptor.mars.internal-1715159929.0780303-20576-7-580f40c6-c49f-4a04-b5b5-125cea238142.nc to downloadERA5_oooo_2019.nc (213.9M)\n",
      "2024-05-08 11:19:23,030 INFO Download rate 8.9M/s                                                                                               \n"
     ]
    }
   ],
   "source": [
    "import cdsapi\n",
    "import os\n",
    "c = cdsapi.Client()\n",
    "for year in range(2016,2020):\n",
    "    print(year)\n",
    "    if not os.path.isfile('downloadERA5_oooo_'+str(year)+'.nc'):\n",
    "        c.retrieve(\n",
    "        'reanalysis-era5-single-levels-monthly-means',\n",
    "            {\n",
    "                'product_type': 'monthly_averaged_reanalysis',            \n",
    "                'variable': [\n",
    "    \t\t    'surface_latent_heat_flux', \n",
    "    \t\t    'surface_sensible_heat_flux', \n",
    "    \t\t    'surface_net_solar_radiation',\n",
    "    \t\t    'surface_net_thermal_radiation',\n",
    "    \t\t    'top_net_solar_radiation',\n",
    "    \t\t    'top_net_thermal_radiation',\n",
    "    \t\t    'total_column_cloud_ice_water', \n",
    "    \t\t    'total_column_cloud_liquid_water',\n",
    "    \t\t    'total_precipitation',\n",
    "                ],\n",
    "                'year': str(year),\n",
    "                'month': [\n",
    "                    '01', '02', '03',\n",
    "                    '04', '05', '06',\n",
    "                    '07', '08', '09',\n",
    "                    '10', '11', '12',\n",
    "                ],\n",
    "                'time': '00:00',\n",
    "                'format': 'netcdf',\n",
    "            },\n",
    "            'downloadERA5_oooo_'+str(year)+'.nc')\n",
    "    else:\n",
    "        print('file already exists!')"
   ]
  },
  {
   "cell_type": "markdown",
   "id": "7d46801a-12cf-48ac-a3b6-957c9996f3dd",
   "metadata": {
    "editable": true,
    "slideshow": {
     "slide_type": "slide"
    },
    "tags": []
   },
   "source": [
    "### using cdo within python"
   ]
  },
  {
   "cell_type": "code",
   "execution_count": 109,
   "id": "f988acfd",
   "metadata": {
    "editable": true,
    "slideshow": {
     "slide_type": "subslide"
    },
    "tags": []
   },
   "outputs": [
    {
     "name": "stdout",
     "output_type": "stream",
     "text": [
      "<class 'netCDF4._netCDF4.Variable'>\n",
      "float64 pr(time, lat, lon)\n",
      "    _FillValue: nan\n",
      "    missing_value: nan\n",
      "    cell_methods: time: mean\n",
      "unlimited dimensions: time\n",
      "current shape = (1, 1, 1)\n",
      "filling off\n",
      "<class 'netCDF4._netCDF4.Variable'>\n",
      "float32 pr(time, lat, lon)\n",
      "    standard_name: pr\n",
      "    long_name: precipitation flux\n",
      "    units: kg m-2 s-1\n",
      "    param: 52.1.0\n",
      "    cell_methods: time: mean\n",
      "    _QuantizeBitRoundNumberOfSignificantBits: 13\n",
      "unlimited dimensions: time\n",
      "current shape = (1, 1, 1)\n",
      "filling off\n",
      "<class 'netCDF4._netCDF4.Variable'>\n",
      "float32 pr(time, lat, lon)\n",
      "    long_name: precipitation flux\n",
      "    units: kg m-2 s-1\n",
      "    cell_methods: time: mean cell: mean\n",
      "    component: atmo\n",
      "    vgrid: surface\n",
      "unlimited dimensions: time\n",
      "current shape = (1, 1, 1)\n",
      "filling off\n",
      "<class 'netCDF4._netCDF4.Variable'>\n",
      "float32 pr(time, lat, lon)\n",
      "    long_name: Total precipitation\n",
      "    units: m\n",
      "    _FillValue: -32767.0\n",
      "    missing_value: -32767.0\n",
      "    cell_methods: time: mean\n",
      "unlimited dimensions: time\n",
      "current shape = (1, 1, 1)\n",
      "filling on\n",
      "<class 'netCDF4._netCDF4.Variable'>\n",
      "float64 pr(time, lat, lon)\n",
      "    _FillValue: nan\n",
      "    missing_value: nan\n",
      "    cell_methods: time: mean\n",
      "unlimited dimensions: time\n",
      "current shape = (1, 1, 1)\n",
      "filling off\n",
      "<class 'netCDF4._netCDF4.Variable'>\n",
      "float64 pr(time, lat, lon)\n",
      "    units: m\n",
      "    _FillValue: 9999.0\n",
      "    missing_value: 9999.0\n",
      "    cell_methods: time: mean\n",
      "    paramId: 228\n",
      "    dataType: fc\n",
      "    numberOfPoints: 1038240\n",
      "    typeOfLevel: surface\n",
      "    stepUnits: 1\n",
      "    stepType: accum\n",
      "    gridType: regular_ll\n",
      "    shortName: tp\n",
      "    name: Total precipitation\n",
      "    cfVarName: tp\n",
      "    missingValue: 9999\n",
      "    NV: 0\n",
      "    gridDefinitionDescription: Latitude/longitude\n",
      "unlimited dimensions: time\n",
      "current shape = (1, 1, 1)\n",
      "filling off\n",
      "<class 'netCDF4._netCDF4.Variable'>\n",
      "float32 pr(time, lat, lon)\n",
      "    long_name: precipitation flux\n",
      "    units: kg m-2 s-1\n",
      "    cell_methods: time: mean cell: mean\n",
      "    component: atmo\n",
      "    vgrid: surface\n",
      "unlimited dimensions: time\n",
      "current shape = (1, 1, 1)\n",
      "filling off\n",
      "<class 'netCDF4._netCDF4.Variable'>\n",
      "float32 pr(time, lat, lon)\n",
      "    standard_name: precipitation_flux\n",
      "    long_name: Precipitation\n",
      "    units: kg m-2 s-1\n",
      "    _FillValue: 1e+20\n",
      "    missing_value: 1e+20\n",
      "    cell_methods: area: time: mean\n",
      "    comment: includes both liquid and solid phases\n",
      "    cell_measures: area: areacella\n",
      "    history: 2019-11-08T08:10:39Z altered by CMOR: replaced missing value flag (-1.07374e+09) with standard missing value (1e+20).\n",
      "unlimited dimensions: time\n",
      "current shape = (1, 1, 1)\n",
      "filling off\n",
      "<class 'netCDF4._netCDF4.Variable'>\n",
      "float32 pr(time, lat, lon)\n",
      "    standard_name: precipitation_flux\n",
      "    long_name: Precipitation\n",
      "    units: kg m-2 s-1\n",
      "    _FillValue: 1e+20\n",
      "    missing_value: 1e+20\n",
      "    cell_methods: area: time: mean\n",
      "    comment: includes both liquid and solid phases\n",
      "    cell_measures: area: areacella\n",
      "    history: 2019-11-08T08:26:36Z altered by CMOR: replaced missing value flag (-1.07374e+09) with standard missing value (1e+20).\n",
      "unlimited dimensions: time\n",
      "current shape = (1, 1, 1)\n",
      "filling off\n",
      "<class 'netCDF4._netCDF4.Variable'>\n",
      "float32 pr(time, lat, lon)\n",
      "    standard_name: pr\n",
      "    long_name: precipitation flux\n",
      "    units: kg m-2 s-1\n",
      "    param: 52.1.0\n",
      "    level_type: atmosphere\n",
      "    cell_methods: time: mean\n",
      "unlimited dimensions: time\n",
      "current shape = (1, 1, 1)\n",
      "filling off\n",
      "<class 'netCDF4._netCDF4.Variable'>\n",
      "float32 pr(time, lat, lon)\n",
      "    standard_name: pr\n",
      "    long_name: precipitation flux\n",
      "    units: kg m-2 s-1\n",
      "    param: 52.1.0\n",
      "    level_type: atmosphere\n",
      "    cell_methods: time: mean\n",
      "unlimited dimensions: time\n",
      "current shape = (1, 1, 1)\n",
      "filling off\n",
      "<class 'netCDF4._netCDF4.Variable'>\n",
      "float64 pr(time, lat, lon)\n",
      "    long_name: multi_satellite_calibrated_precipitation\n",
      "    units: mm/h\n",
      "    _FillValue: -32767.0\n",
      "    missing_value: -32767.0\n",
      "    cell_methods: time: mean\n",
      "    comment: This is the multi-satellite precipitation rate calibrated with gauge measurements\n",
      "unlimited dimensions: time\n",
      "current shape = (1, 1, 1)\n",
      "filling off\n",
      "<class 'netCDF4._netCDF4.Variable'>\n",
      "float64 pr(time, lat, lon)\n",
      "    _FillValue: nan\n",
      "    missing_value: nan\n",
      "    cell_methods: time: mean\n",
      "unlimited dimensions: time\n",
      "current shape = (1, 1, 1)\n",
      "filling off\n",
      "<class 'netCDF4._netCDF4.Variable'>\n",
      "float32 pr(time, lat, lon)\n",
      "    standard_name: pr\n",
      "    long_name: precipitation flux\n",
      "    units: kg m-2 s-1\n",
      "    param: 52.1.0\n",
      "    level_type: atmosphere\n",
      "    cell_methods: time: mean\n",
      "unlimited dimensions: time\n",
      "current shape = (1, 1, 1)\n",
      "filling off\n"
     ]
    }
   ],
   "source": [
    "import glob\n",
    "import os\n",
    "def spct(comm):\n",
    "    spc(comm,shell=True)\n",
    "\n",
    "in_files = glob.glob('modeldata_precipitation/timmean_*.nc')\n",
    "\n",
    "for in_file in in_files:\n",
    "    out_file = in_file.replace('modeldata_precipitation/timmean','modeldata_precipitation/fldmean_timmean')\n",
    "    \n",
    "    if not os.path.isfile(out_file):\n",
    "        spct('cdo fldmean '+in_file+' '+out_file)\n",
    "    if     os.path.isfile(out_file):\n",
    "        print(netCDF4.Dataset(out_file).variables['pr'])"
   ]
  },
  {
   "cell_type": "code",
   "execution_count": 110,
   "id": "642fc06d-cc15-4315-8ea3-116a123ddd1b",
   "metadata": {
    "editable": true,
    "scrolled": true,
    "slideshow": {
     "slide_type": "skip"
    },
    "tags": []
   },
   "outputs": [
    {
     "name": "stdout",
     "output_type": "stream",
     "text": [
      "modeldata_precipitation/timmean_5Y_n90dis_IFS4_pr_0p25deg.nc\n",
      "modeldata_precipitation/timmean_5Y_n90disn512con_ngc3028_pr_Nzoom9_P1D.nc\n",
      "modeldata_precipitation/timmean_5Y_n90dis_ngc4008_pr_Nzoom7_P1D.nc\n",
      "modeldata_precipitation/timmean_5Y_n90dis_ngc40AMIP_pr_Nzoom8_P1D.nc\n",
      "modeldata_precipitation/timmean_ensmean_n90con_pr_AMIP6_oooo.nc\n",
      "modeldata_precipitation/timmean_ensmean_n90dis_pr_mmday_Amon_oooo__historical_r1i1p1f1_gn_19790116-20141216_v20190710.nc\n",
      "modeldata_precipitation/timmean_monmean_n90dis_ngc2013_atm_2d_3h_mean_oooo.nc\n",
      "modeldata_precipitation/timmean_monmean_n90dis_rthk001_atm_2d_3h_mean_oooo.nc\n",
      "modeldata_precipitation/timmean_n90con_IMERG_trop_20162020.nc\n",
      "modeldata_precipitation/timmean_n90dis_IFS_4.4-FESOM_5-cycle3_2D_monthly_0.25deg_pr.nc\n",
      "modeldata_precipitation/timmean_n90dis_IFS_9-FESOM_5-cycle3_2D_monthly_0.25deg_pr.nc\n",
      "modeldata_precipitation/timmean_n90dis_IFS_9-NEMO_25-cycle3_2D_monthly_0.25deg_pr.nc\n",
      "modeldata_precipitation/timmean_pr_n90dis_daymean_ngc2009_atm_2d_30min_mean_2021oooo.nc\n",
      "modeldata_precipitation/timmean_pr_n90dis_ERA5_20162020.nc\n"
     ]
    }
   ],
   "source": [
    "! ls modeldata_precipitation/timm*"
   ]
  },
  {
   "cell_type": "markdown",
   "id": "8cececb7-c0dd-4f1e-9f38-49e42bd6939d",
   "metadata": {
    "editable": true,
    "slideshow": {
     "slide_type": "slide"
    },
    "tags": []
   },
   "source": [
    "### Tasks:\n",
    "1. Install the programs and python modules listed in slide 2. \n",
    "2. Interpret the model output given in folder \"modeldata_precipitation\" using cdo and ncview. \n",
    "3. Produce plots of the zonal average of precipitation flux in units of mm/day using python and its modules matplotlib.\n",
    "4. Produce maps of precipitation flux in units of mm/day using python and its modules matplotlib and cartopy.\n",
    "5. Produce maps of precipitation biases of models with respect to observations \"IMERG: timmean_n90con_IMERG_trop_20162020.nc\".\n",
    "\n",
    "\n",
    "\n",
    "### *have fun!*"
   ]
  },
  {
   "cell_type": "code",
   "execution_count": 113,
   "id": "476d93bf-5218-4efa-a0a4-082afe178c69",
   "metadata": {
    "editable": true,
    "scrolled": true,
    "slideshow": {
     "slide_type": "skip"
    },
    "tags": []
   },
   "outputs": [
    {
     "name": "stdout",
     "output_type": "stream",
     "text": [
      "[NbConvertApp] Converting notebook jupy-cdo_tutorial.ipynb to slides\n",
      "[NbConvertApp] Writing 387338 bytes to jupy-cdo_tutorial.slides.html\n"
     ]
    }
   ],
   "source": [
    "!jupyter nbconvert jupy-cdo_tutorial.ipynb --theme=Jupyterlab-light --to slides --SlidesExporter.reveal_scroll=True  --SlidesExporter.reveal_theme=dark --SlidesExporter.theme=dark\n",
    "\n",
    "#--SlidesExporter.reveal_theme=white  --template nbconvert_template.tpl #slides#--post serve\n"
   ]
  }
 ],
 "metadata": {
  "kernelspec": {
   "display_name": "Python 3 (ipykernel)",
   "language": "python",
   "name": "python3"
  },
  "language_info": {
   "codemirror_mode": {
    "name": "ipython",
    "version": 3
   },
   "file_extension": ".py",
   "mimetype": "text/x-python",
   "name": "python",
   "nbconvert_exporter": "python",
   "pygments_lexer": "ipython3",
   "version": "3.10.12"
  }
 },
 "nbformat": 4,
 "nbformat_minor": 5
}
